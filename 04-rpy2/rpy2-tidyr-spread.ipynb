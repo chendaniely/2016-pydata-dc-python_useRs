{
 "cells": [
  {
   "cell_type": "markdown",
   "metadata": {},
   "source": [
    "http://rpy2.readthedocs.io/en/default/index.html"
   ]
  },
  {
   "cell_type": "code",
   "execution_count": 1,
   "metadata": {
    "collapsed": false
   },
   "outputs": [
    {
     "name": "stderr",
     "output_type": "stream",
     "text": [
      "/usr/lib/python3.5/site-packages/rpy2/robjects/lib/tidyr.py:10: UserWarning: This was designed againt tidyr version 0.4.1 but you have 0.6.0\n",
      "  warnings.warn('This was designed againt tidyr version %s but you have %s' % (TARGET_VERSION, tidyr.__version__))\n",
      "/usr/lib/python3.5/site-packages/rpy2/robjects/lib/dplyr.py:23: UserWarning: This was designed againt dplyr version 0.4.3 but you have 0.5.0\n",
      "  warnings.warn('This was designed againt dplyr version %s but you have %s' % (TARGET_VERSION, dplyr.__version__))\n",
      "/usr/lib/python3.5/site-packages/rpy2/robjects/packages.py:347: UserWarning: The symbol 'src_dt' is not in this R namespace/package.\n",
      "  warnings.warn(\"The symbol '%s' is not in this R namespace/package.\" % name)\n"
     ]
    }
   ],
   "source": [
    "from collections import OrderedDict\n",
    "import pandas as pd\n",
    "\n",
    "from rpy2.robjects.lib.tidyr import DataFrame\n",
    "\n",
    "from rpy2.robjects.vectors import (StrVector,\n",
    "                                   IntVector)\n",
    "\n",
    "from rpy2.robjects import pandas2ri\n",
    "pandas2ri.activate()"
   ]
  },
  {
   "cell_type": "code",
   "execution_count": 2,
   "metadata": {
    "collapsed": false
   },
   "outputs": [],
   "source": [
    "df = DataFrame(OrderedDict(\n",
    "    name=StrVector((\"Wilbur\", \"Petunia\", \"Gregory\",\n",
    "                    \"Wilbur\", \"Petunia\", \"Gregory\")),\n",
    "    drug=StrVector(('a', 'a', 'a', 'b', 'b', 'b')),\n",
    "    heartrate=IntVector((67, 80, 64, 56, 90, 50))))"
   ]
  },
  {
   "cell_type": "code",
   "execution_count": 3,
   "metadata": {
    "collapsed": false,
    "scrolled": true
   },
   "outputs": [
    {
     "data": {
      "text/plain": [
       "R object with classes: ('data.frame',) mapped to:\n",
       "<DataFrame - Python:0x7fc5a4d20688 / R:0x4af7510>\n",
       "[IntVector, FactorVector, FactorVector]\n",
       "  heartrate: <class 'rpy2.robjects.vectors.IntVector'>\n",
       "  R object with classes: ('integer',) mapped to:\n",
       "<IntVector - Python:0x7fc5a536ed48 / R:0x450b158>\n",
       "[      67,       80,       64,       56,       90,       50]\n",
       "  drug: <class 'rpy2.robjects.vectors.FactorVector'>\n",
       "  R object with classes: ('factor',) mapped to:\n",
       "<FactorVector - Python:0x7fc5a64c7408 / R:0x4b10bd0>\n",
       "[       1,        1,        1,        2,        2,        2]\n",
       "  name: <class 'rpy2.robjects.vectors.FactorVector'>\n",
       "  R object with classes: ('factor',) mapped to:\n",
       "<FactorVector - Python:0x7fc5a64c7508 / R:0x4af74c8>\n",
       "[       3,        2,        1,        3,        2,        1]"
      ]
     },
     "execution_count": 3,
     "metadata": {},
     "output_type": "execute_result"
    }
   ],
   "source": [
    "df"
   ]
  },
  {
   "cell_type": "code",
   "execution_count": 4,
   "metadata": {
    "collapsed": true
   },
   "outputs": [],
   "source": [
    "import rpy2.ipython.html\n",
    "rpy2.ipython.html.init_printing()"
   ]
  },
  {
   "cell_type": "code",
   "execution_count": 5,
   "metadata": {
    "collapsed": false
   },
   "outputs": [
    {
     "data": {
      "text/html": [
       "\n",
       "<emph>DataFrame</emph> with 6 rows and 3 columns:\n",
       "<table class=\"rpy2_table\">\n",
       "  <thead>\n",
       "    <tr class=\"rpy2_names\">\n",
       "      <th></th>\n",
       "      <th></th>\n",
       "      <th>heartrate</th>\n",
       "      <th>drug</th>\n",
       "      <th>name</th>\n",
       "    </tr>\n",
       "  </thead>\n",
       "  <tbody>\n",
       "    <tr>\n",
       "      <td class=\"rpy2_rowname\">0</td>\n",
       "        <td class=\"rpy2_names\">1</td>\n",
       "      <td>67</td>\n",
       "      <td>a</td>\n",
       "      <td>Wilbur</td>\n",
       "    </tr>\n",
       "    <tr>\n",
       "      <td class=\"rpy2_rowname\">1</td>\n",
       "        <td class=\"rpy2_names\">2</td>\n",
       "      <td>80</td>\n",
       "      <td>a</td>\n",
       "      <td>Petunia</td>\n",
       "    </tr>\n",
       "    <tr>\n",
       "      <td class=\"rpy2_rowname\">2</td>\n",
       "        <td class=\"rpy2_names\">3</td>\n",
       "      <td>64</td>\n",
       "      <td>a</td>\n",
       "      <td>Gregory</td>\n",
       "    </tr>\n",
       "    <tr>\n",
       "      <td class=\"rpy2_rowname\">3</td>\n",
       "        <td class=\"rpy2_names\">4</td>\n",
       "      <td>56</td>\n",
       "      <td>b</td>\n",
       "      <td>Wilbur</td>\n",
       "    </tr>\n",
       "    <tr>\n",
       "      <td class=\"rpy2_rowname\">4</td>\n",
       "        <td class=\"rpy2_names\">5</td>\n",
       "      <td>90</td>\n",
       "      <td>b</td>\n",
       "      <td>Petunia</td>\n",
       "    </tr>\n",
       "    <tr>\n",
       "      <td class=\"rpy2_rowname\">5</td>\n",
       "        <td class=\"rpy2_names\">6</td>\n",
       "      <td>50</td>\n",
       "      <td>b</td>\n",
       "      <td>Gregory</td>\n",
       "    </tr>\n",
       "  </tbody>\n",
       "</table>"
      ],
      "text/plain": [
       "R object with classes: ('data.frame',) mapped to:\n",
       "<DataFrame - Python:0x7fc5a4d20688 / R:0x4af7510>\n",
       "[IntVector, FactorVector, FactorVector]\n",
       "  heartrate: <class 'rpy2.robjects.vectors.IntVector'>\n",
       "  R object with classes: ('integer',) mapped to:\n",
       "<IntVector - Python:0x7fc5a4f520c8 / R:0x450b158>\n",
       "[      67,       80,       64,       56,       90,       50]\n",
       "  drug: <class 'rpy2.robjects.vectors.FactorVector'>\n",
       "  R object with classes: ('factor',) mapped to:\n",
       "<FactorVector - Python:0x7fc5a49e3148 / R:0x4b10bd0>\n",
       "[       1,        1,        1,        2,        2,        2]\n",
       "  name: <class 'rpy2.robjects.vectors.FactorVector'>\n",
       "  R object with classes: ('factor',) mapped to:\n",
       "<FactorVector - Python:0x7fc5a49e3288 / R:0x4af74c8>\n",
       "[       3,        2,        1,        3,        2,        1]"
      ]
     },
     "execution_count": 5,
     "metadata": {},
     "output_type": "execute_result"
    }
   ],
   "source": [
    "df"
   ]
  },
  {
   "cell_type": "code",
   "execution_count": 6,
   "metadata": {
    "collapsed": false
   },
   "outputs": [
    {
     "data": {
      "text/html": [
       "\n",
       "<emph>DataFrame</emph> with 3 rows and 3 columns:\n",
       "<table class=\"rpy2_table\">\n",
       "  <thead>\n",
       "    <tr class=\"rpy2_names\">\n",
       "      <th></th>\n",
       "      <th></th>\n",
       "      <th>name</th>\n",
       "      <th>a</th>\n",
       "      <th>b</th>\n",
       "    </tr>\n",
       "  </thead>\n",
       "  <tbody>\n",
       "    <tr>\n",
       "      <td class=\"rpy2_rowname\">0</td>\n",
       "        <td class=\"rpy2_names\">1</td>\n",
       "      <td>Gregory</td>\n",
       "      <td>64</td>\n",
       "      <td>50</td>\n",
       "    </tr>\n",
       "    <tr>\n",
       "      <td class=\"rpy2_rowname\">1</td>\n",
       "        <td class=\"rpy2_names\">2</td>\n",
       "      <td>Petunia</td>\n",
       "      <td>80</td>\n",
       "      <td>90</td>\n",
       "    </tr>\n",
       "    <tr>\n",
       "      <td class=\"rpy2_rowname\">2</td>\n",
       "        <td class=\"rpy2_names\">3</td>\n",
       "      <td>Wilbur</td>\n",
       "      <td>67</td>\n",
       "      <td>56</td>\n",
       "    </tr>\n",
       "  </tbody>\n",
       "</table>"
      ],
      "text/plain": [
       "R object with classes: ('data.frame',) mapped to:\n",
       "<DataFrame - Python:0x7fc5a536e988 / R:0x44d1458>\n",
       "[FactorVector, IntVector, IntVector]\n",
       "  name: <class 'rpy2.robjects.vectors.FactorVector'>\n",
       "  R object with classes: ('factor',) mapped to:\n",
       "<FactorVector - Python:0x7fc5a49e56c8 / R:0x3d469b0>\n",
       "[       1,        2,        3]\n",
       "  a: <class 'rpy2.robjects.vectors.IntVector'>\n",
       "  R object with classes: ('integer',) mapped to:\n",
       "<IntVector - Python:0x7fc5a49e5d88 / R:0x3c53eb8>\n",
       "[      64,       80,       67]\n",
       "  b: <class 'rpy2.robjects.vectors.IntVector'>\n",
       "  R object with classes: ('integer',) mapped to:\n",
       "<IntVector - Python:0x7fc5a49e5e08 / R:0x3c53ef0>\n",
       "[      50,       90,       56]"
      ]
     },
     "execution_count": 6,
     "metadata": {},
     "output_type": "execute_result"
    }
   ],
   "source": [
    "df = df.spread('drug', 'heartrate')\n",
    "df"
   ]
  }
 ],
 "metadata": {
  "kernelspec": {
   "display_name": "Python 3",
   "language": "python",
   "name": "python3"
  },
  "language_info": {
   "codemirror_mode": {
    "name": "ipython",
    "version": 3
   },
   "file_extension": ".py",
   "mimetype": "text/x-python",
   "name": "python",
   "nbconvert_exporter": "python",
   "pygments_lexer": "ipython3",
   "version": "3.5.2"
  }
 },
 "nbformat": 4,
 "nbformat_minor": 0
}
